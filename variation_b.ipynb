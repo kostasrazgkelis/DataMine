{
 "cells": [
  {
   "cell_type": "code",
   "execution_count": 145,
   "metadata": {
    "ExecuteTime": {
     "end_time": "2023-06-11T23:42:38.419370Z",
     "start_time": "2023-06-11T23:42:38.395286Z"
    }
   },
   "outputs": [],
   "source": [
    "import matplotlib.pyplot as plt\n",
    "import nltk\n",
    "from nltk.corpus import stopwords\n",
    "import numpy as np\n",
    "import pandas as pd\n",
    "import re\n",
    "\n",
    "from sklearn.cluster import KMeans\n",
    "from sklearn.decomposition import TruncatedSVD\n",
    "from sklearn.feature_extraction.text import TfidfVectorizer\n",
    "from sklearn.metrics.pairwise import cosine_similarity\n",
    "from sklearn.model_selection import train_test_split\n",
    "\n",
    "from my_modules import custom_f1_score\n"
   ]
  },
  {
   "cell_type": "code",
   "execution_count": 72,
   "metadata": {
    "ExecuteTime": {
     "end_time": "2023-06-11T23:10:26.418073Z",
     "start_time": "2023-06-11T23:09:15.124908Z"
    }
   },
   "outputs": [
    {
     "name": "stderr",
     "output_type": "stream",
     "text": [
      "[nltk_data] Downloading package stopwords to\n",
      "[nltk_data]     C:\\Users\\Andreas\\AppData\\Roaming\\nltk_data...\n",
      "[nltk_data]   Package stopwords is already up-to-date!\n"
     ]
    }
   ],
   "source": [
    "# Get the list of stopwords\n",
    "nltk.download('stopwords')\n",
    "stopwords_list = set(stopwords.words('english'))\n",
    "\n",
    "dataset = pd.read_csv(\"data/training_data.tsv.gz\", sep=\"\\t\", header=None)\n",
    "dataset.dropna(inplace=True)"
   ]
  },
  {
   "cell_type": "code",
   "execution_count": 73,
   "metadata": {},
   "outputs": [
    {
     "name": "stderr",
     "output_type": "stream",
     "text": [
      "C:\\Users\\Andreas\\AppData\\Local\\Temp\\ipykernel_4204\\2011920198.py:3: SettingWithCopyWarning: \n",
      "A value is trying to be set on a copy of a slice from a DataFrame\n",
      "\n",
      "See the caveats in the documentation: https://pandas.pydata.org/pandas-docs/stable/user_guide/indexing.html#returning-a-view-versus-a-copy\n",
      "  df.rename(columns={0: 'index', 1: 'title', 2: 'text', 3: 'labels'}, inplace=True)\n",
      "C:\\Users\\Andreas\\AppData\\Local\\Temp\\ipykernel_4204\\2011920198.py:4: SettingWithCopyWarning: \n",
      "A value is trying to be set on a copy of a slice from a DataFrame\n",
      "\n",
      "See the caveats in the documentation: https://pandas.pydata.org/pandas-docs/stable/user_guide/indexing.html#returning-a-view-versus-a-copy\n",
      "  df.drop('index', axis=1, inplace=True)\n"
     ]
    }
   ],
   "source": [
    "df = dataset.head(100000)\n",
    "\n",
    "df.rename(columns={0: 'index', 1: 'title', 2: 'text', 3: 'labels'}, inplace=True)\n",
    "df.drop('index', axis=1, inplace=True)\n",
    "\n",
    "# Get the features\n",
    "X  = df.drop('labels', axis=1)\n",
    "\n",
    "# Start preprocessing the data\n",
    "# We Lower case all the data\n",
    "# we remove all stop words (the, a, etc)\n",
    "# We remove other words that are from html (e.g <div><!div>)\n",
    "X = X.applymap(lambda x: re.sub(r'<.*?>|[^\\w\\s]', '', x.lower())).applymap(lambda x: ' '.join([word for word in x.split() if word not in stopwords_list]))\n",
    "\n",
    "# We will now concat title and text into one dataset\n",
    "X = X[\"title\"] + X[\"text\"]\n",
    "y = df['labels'].str.get_dummies(',')\n",
    "\n",
    "# Split the data into training and test sets\n",
    "X_train, X_test, y_train, y_test = train_test_split(X, y, test_size=0.2, shuffle=False)\n"
   ]
  },
  {
   "cell_type": "code",
   "execution_count": 99,
   "metadata": {},
   "outputs": [
    {
     "name": "stdout",
     "output_type": "stream",
     "text": [
      "There are 15 different labels. Let's see how often each combination occurs.\n",
      "Ideally we want to have at least one cluster for each combination later. We will experiment with the n_clusters parameter for kmeans.\n"
     ]
    },
    {
     "data": {
      "text/html": [
       "<div>\n",
       "<style scoped>\n",
       "    .dataframe tbody tr th:only-of-type {\n",
       "        vertical-align: middle;\n",
       "    }\n",
       "\n",
       "    .dataframe tbody tr th {\n",
       "        vertical-align: top;\n",
       "    }\n",
       "\n",
       "    .dataframe thead th {\n",
       "        text-align: right;\n",
       "    }\n",
       "</style>\n",
       "<table border=\"1\" class=\"dataframe\">\n",
       "  <thead>\n",
       "    <tr style=\"text-align: right;\">\n",
       "      <th></th>\n",
       "      <th>css</th>\n",
       "      <th>html</th>\n",
       "      <th>javascript</th>\n",
       "      <th>jquery</th>\n",
       "      <th>count</th>\n",
       "    </tr>\n",
       "  </thead>\n",
       "  <tbody>\n",
       "    <tr>\n",
       "      <th>0</th>\n",
       "      <td>0</td>\n",
       "      <td>0</td>\n",
       "      <td>0</td>\n",
       "      <td>1</td>\n",
       "      <td>24273</td>\n",
       "    </tr>\n",
       "    <tr>\n",
       "      <th>1</th>\n",
       "      <td>0</td>\n",
       "      <td>0</td>\n",
       "      <td>1</td>\n",
       "      <td>0</td>\n",
       "      <td>29017</td>\n",
       "    </tr>\n",
       "    <tr>\n",
       "      <th>2</th>\n",
       "      <td>0</td>\n",
       "      <td>0</td>\n",
       "      <td>1</td>\n",
       "      <td>1</td>\n",
       "      <td>12388</td>\n",
       "    </tr>\n",
       "    <tr>\n",
       "      <th>3</th>\n",
       "      <td>0</td>\n",
       "      <td>1</td>\n",
       "      <td>0</td>\n",
       "      <td>0</td>\n",
       "      <td>9667</td>\n",
       "    </tr>\n",
       "    <tr>\n",
       "      <th>4</th>\n",
       "      <td>0</td>\n",
       "      <td>1</td>\n",
       "      <td>0</td>\n",
       "      <td>1</td>\n",
       "      <td>1340</td>\n",
       "    </tr>\n",
       "    <tr>\n",
       "      <th>5</th>\n",
       "      <td>0</td>\n",
       "      <td>1</td>\n",
       "      <td>1</td>\n",
       "      <td>0</td>\n",
       "      <td>3984</td>\n",
       "    </tr>\n",
       "    <tr>\n",
       "      <th>6</th>\n",
       "      <td>0</td>\n",
       "      <td>1</td>\n",
       "      <td>1</td>\n",
       "      <td>1</td>\n",
       "      <td>1506</td>\n",
       "    </tr>\n",
       "    <tr>\n",
       "      <th>7</th>\n",
       "      <td>1</td>\n",
       "      <td>0</td>\n",
       "      <td>0</td>\n",
       "      <td>0</td>\n",
       "      <td>7268</td>\n",
       "    </tr>\n",
       "    <tr>\n",
       "      <th>8</th>\n",
       "      <td>1</td>\n",
       "      <td>0</td>\n",
       "      <td>0</td>\n",
       "      <td>1</td>\n",
       "      <td>1137</td>\n",
       "    </tr>\n",
       "    <tr>\n",
       "      <th>9</th>\n",
       "      <td>1</td>\n",
       "      <td>0</td>\n",
       "      <td>1</td>\n",
       "      <td>0</td>\n",
       "      <td>1053</td>\n",
       "    </tr>\n",
       "    <tr>\n",
       "      <th>10</th>\n",
       "      <td>1</td>\n",
       "      <td>0</td>\n",
       "      <td>1</td>\n",
       "      <td>1</td>\n",
       "      <td>597</td>\n",
       "    </tr>\n",
       "    <tr>\n",
       "      <th>11</th>\n",
       "      <td>1</td>\n",
       "      <td>1</td>\n",
       "      <td>0</td>\n",
       "      <td>0</td>\n",
       "      <td>5885</td>\n",
       "    </tr>\n",
       "    <tr>\n",
       "      <th>12</th>\n",
       "      <td>1</td>\n",
       "      <td>1</td>\n",
       "      <td>0</td>\n",
       "      <td>1</td>\n",
       "      <td>496</td>\n",
       "    </tr>\n",
       "    <tr>\n",
       "      <th>13</th>\n",
       "      <td>1</td>\n",
       "      <td>1</td>\n",
       "      <td>1</td>\n",
       "      <td>0</td>\n",
       "      <td>981</td>\n",
       "    </tr>\n",
       "    <tr>\n",
       "      <th>14</th>\n",
       "      <td>1</td>\n",
       "      <td>1</td>\n",
       "      <td>1</td>\n",
       "      <td>1</td>\n",
       "      <td>408</td>\n",
       "    </tr>\n",
       "  </tbody>\n",
       "</table>\n",
       "</div>"
      ],
      "text/plain": [
       "    css  html  javascript  jquery  count\n",
       "0     0     0           0       1  24273\n",
       "1     0     0           1       0  29017\n",
       "2     0     0           1       1  12388\n",
       "3     0     1           0       0   9667\n",
       "4     0     1           0       1   1340\n",
       "5     0     1           1       0   3984\n",
       "6     0     1           1       1   1506\n",
       "7     1     0           0       0   7268\n",
       "8     1     0           0       1   1137\n",
       "9     1     0           1       0   1053\n",
       "10    1     0           1       1    597\n",
       "11    1     1           0       0   5885\n",
       "12    1     1           0       1    496\n",
       "13    1     1           1       0    981\n",
       "14    1     1           1       1    408"
      ]
     },
     "execution_count": 99,
     "metadata": {},
     "output_type": "execute_result"
    }
   ],
   "source": [
    "# We want to get all the unique labels\n",
    "unique_labels = y.drop_duplicates().reset_index(drop=True)\n",
    "print(f\"There are {len(unique_labels)} different labels. Let's see how often each combination occurs.\")\n",
    "print('Ideally we want to have at least one cluster for each combination later. We will experiment with the n_clusters parameter for kmeans.')\n",
    "\n",
    "combination_counts = y.groupby(y.columns.tolist()).size().reset_index(name='count')\n",
    "combination_counts"
   ]
  },
  {
   "cell_type": "code",
   "execution_count": 74,
   "metadata": {},
   "outputs": [],
   "source": [
    "# Initialize the TfidfVectorizer - we normalize the text into numerical values\n",
    "vectorizer = TfidfVectorizer()\n",
    "pca = TruncatedSVD(n_components=3)"
   ]
  },
  {
   "cell_type": "code",
   "execution_count": 75,
   "metadata": {},
   "outputs": [],
   "source": [
    "# Fit and transform the text data and apply dimensionality reduction\n",
    "X_train_vectorized = vectorizer.fit_transform(X_train)\n",
    "X_test_vectorized = vectorizer.transform(X_test)\n",
    "\n",
    "X_train_pca = pca.fit_transform(X_train_vectorized)\n",
    "X_test_pca = pca.transform(X_test_vectorized)"
   ]
  },
  {
   "cell_type": "code",
   "execution_count": 128,
   "metadata": {
    "ExecuteTime": {
     "end_time": "2023-06-11T23:55:20.979861Z",
     "start_time": "2023-06-11T23:55:01.677412Z"
    }
   },
   "outputs": [
    {
     "name": "stderr",
     "output_type": "stream",
     "text": [
      "c:\\Users\\Andreas\\.conda\\envs\\datamine\\Lib\\site-packages\\sklearn\\cluster\\_kmeans.py:870: FutureWarning: The default value of `n_init` will change from 10 to 'auto' in 1.4. Set the value of `n_init` explicitly to suppress the warning\n",
      "  warnings.warn(\n"
     ]
    },
    {
     "data": {
      "text/html": [
       "<style>#sk-container-id-1 {color: black;background-color: white;}#sk-container-id-1 pre{padding: 0;}#sk-container-id-1 div.sk-toggleable {background-color: white;}#sk-container-id-1 label.sk-toggleable__label {cursor: pointer;display: block;width: 100%;margin-bottom: 0;padding: 0.3em;box-sizing: border-box;text-align: center;}#sk-container-id-1 label.sk-toggleable__label-arrow:before {content: \"▸\";float: left;margin-right: 0.25em;color: #696969;}#sk-container-id-1 label.sk-toggleable__label-arrow:hover:before {color: black;}#sk-container-id-1 div.sk-estimator:hover label.sk-toggleable__label-arrow:before {color: black;}#sk-container-id-1 div.sk-toggleable__content {max-height: 0;max-width: 0;overflow: hidden;text-align: left;background-color: #f0f8ff;}#sk-container-id-1 div.sk-toggleable__content pre {margin: 0.2em;color: black;border-radius: 0.25em;background-color: #f0f8ff;}#sk-container-id-1 input.sk-toggleable__control:checked~div.sk-toggleable__content {max-height: 200px;max-width: 100%;overflow: auto;}#sk-container-id-1 input.sk-toggleable__control:checked~label.sk-toggleable__label-arrow:before {content: \"▾\";}#sk-container-id-1 div.sk-estimator input.sk-toggleable__control:checked~label.sk-toggleable__label {background-color: #d4ebff;}#sk-container-id-1 div.sk-label input.sk-toggleable__control:checked~label.sk-toggleable__label {background-color: #d4ebff;}#sk-container-id-1 input.sk-hidden--visually {border: 0;clip: rect(1px 1px 1px 1px);clip: rect(1px, 1px, 1px, 1px);height: 1px;margin: -1px;overflow: hidden;padding: 0;position: absolute;width: 1px;}#sk-container-id-1 div.sk-estimator {font-family: monospace;background-color: #f0f8ff;border: 1px dotted black;border-radius: 0.25em;box-sizing: border-box;margin-bottom: 0.5em;}#sk-container-id-1 div.sk-estimator:hover {background-color: #d4ebff;}#sk-container-id-1 div.sk-parallel-item::after {content: \"\";width: 100%;border-bottom: 1px solid gray;flex-grow: 1;}#sk-container-id-1 div.sk-label:hover label.sk-toggleable__label {background-color: #d4ebff;}#sk-container-id-1 div.sk-serial::before {content: \"\";position: absolute;border-left: 1px solid gray;box-sizing: border-box;top: 0;bottom: 0;left: 50%;z-index: 0;}#sk-container-id-1 div.sk-serial {display: flex;flex-direction: column;align-items: center;background-color: white;padding-right: 0.2em;padding-left: 0.2em;position: relative;}#sk-container-id-1 div.sk-item {position: relative;z-index: 1;}#sk-container-id-1 div.sk-parallel {display: flex;align-items: stretch;justify-content: center;background-color: white;position: relative;}#sk-container-id-1 div.sk-item::before, #sk-container-id-1 div.sk-parallel-item::before {content: \"\";position: absolute;border-left: 1px solid gray;box-sizing: border-box;top: 0;bottom: 0;left: 50%;z-index: -1;}#sk-container-id-1 div.sk-parallel-item {display: flex;flex-direction: column;z-index: 1;position: relative;background-color: white;}#sk-container-id-1 div.sk-parallel-item:first-child::after {align-self: flex-end;width: 50%;}#sk-container-id-1 div.sk-parallel-item:last-child::after {align-self: flex-start;width: 50%;}#sk-container-id-1 div.sk-parallel-item:only-child::after {width: 0;}#sk-container-id-1 div.sk-dashed-wrapped {border: 1px dashed gray;margin: 0 0.4em 0.5em 0.4em;box-sizing: border-box;padding-bottom: 0.4em;background-color: white;}#sk-container-id-1 div.sk-label label {font-family: monospace;font-weight: bold;display: inline-block;line-height: 1.2em;}#sk-container-id-1 div.sk-label-container {text-align: center;}#sk-container-id-1 div.sk-container {/* jupyter's `normalize.less` sets `[hidden] { display: none; }` but bootstrap.min.css set `[hidden] { display: none !important; }` so we also need the `!important` here to be able to override the default hidden behavior on the sphinx rendered scikit-learn.org. See: https://github.com/scikit-learn/scikit-learn/issues/21755 */display: inline-block !important;position: relative;}#sk-container-id-1 div.sk-text-repr-fallback {display: none;}</style><div id=\"sk-container-id-1\" class=\"sk-top-container\"><div class=\"sk-text-repr-fallback\"><pre>KMeans(n_clusters=100)</pre><b>In a Jupyter environment, please rerun this cell to show the HTML representation or trust the notebook. <br />On GitHub, the HTML representation is unable to render, please try loading this page with nbviewer.org.</b></div><div class=\"sk-container\" hidden><div class=\"sk-item\"><div class=\"sk-estimator sk-toggleable\"><input class=\"sk-toggleable__control sk-hidden--visually\" id=\"sk-estimator-id-1\" type=\"checkbox\" checked><label for=\"sk-estimator-id-1\" class=\"sk-toggleable__label sk-toggleable__label-arrow\">KMeans</label><div class=\"sk-toggleable__content\"><pre>KMeans(n_clusters=100)</pre></div></div></div></div></div>"
      ],
      "text/plain": [
       "KMeans(n_clusters=100)"
      ]
     },
     "execution_count": 128,
     "metadata": {},
     "output_type": "execute_result"
    }
   ],
   "source": [
    "# Initialize the Kmeans classifier\n",
    "kmeans = KMeans(n_clusters=100)\n",
    "\n",
    "# Train the Kmeans classifier\n",
    "kmeans.fit(X_train_pca)"
   ]
  },
  {
   "cell_type": "code",
   "execution_count": 129,
   "metadata": {},
   "outputs": [
    {
     "name": "stdout",
     "output_type": "stream",
     "text": [
      "Centroid: [ 0.07298068 -0.00355062 -0.00616151], Assigned Label: [0, 0, 0, 1]\n",
      "Centroid: [0.18948568 0.0468476  0.02045305], Assigned Label: [0, 1, 1, 0]\n",
      "Centroid: [ 0.10834305  0.05620913 -0.00669341], Assigned Label: [1, 1, 0, 1]\n",
      "Centroid: [ 0.24350132 -0.07602063 -0.01101545], Assigned Label: [0, 0, 1, 0]\n",
      "Centroid: [0.13618253 0.00920732 0.10941535], Assigned Label: [0, 0, 1, 0]\n",
      "Centroid: [ 0.17831353  0.14342336 -0.16120559], Assigned Label: [0, 0, 0, 1]\n",
      "Centroid: [ 0.10539225 -0.08780539 -0.02012135], Assigned Label: [0, 0, 0, 1]\n",
      "Centroid: [ 0.1336716   0.01629226 -0.09266584], Assigned Label: [0, 1, 0, 1]\n",
      "Centroid: [0.09322639 0.02363353 0.0168581 ], Assigned Label: [0, 0, 0, 1]\n",
      "Centroid: [ 0.16101066  0.18428636 -0.0087691 ], Assigned Label: [0, 0, 0, 1]\n",
      "Centroid: [0.199253   0.11162889 0.11500283], Assigned Label: [1, 0, 1, 0]\n",
      "Centroid: [ 0.11267192 -0.03195879 -0.07675498], Assigned Label: [0, 0, 1, 0]\n",
      "Centroid: [ 0.0817418  -0.04431219 -0.02100301], Assigned Label: [0, 1, 1, 0]\n",
      "Centroid: [0.18772138 0.02444825 0.13589567], Assigned Label: [0, 1, 0, 0]\n",
      "Centroid: [ 0.14090292 -0.0397769  -0.01288025], Assigned Label: [0, 0, 0, 1]\n",
      "Centroid: [0.13196837 0.07532374 0.10660917], Assigned Label: [1, 1, 0, 0]\n",
      "Centroid: [ 0.20953764 -0.17494582 -0.07967108], Assigned Label: [0, 0, 1, 0]\n",
      "Centroid: [ 0.12153549 -0.0962781  -0.10908949], Assigned Label: [0, 0, 1, 0]\n",
      "Centroid: [ 0.08550992  0.12423184 -0.03787872], Assigned Label: [1, 0, 0, 0]\n",
      "Centroid: [ 0.0314926  -0.00284877  0.00240981], Assigned Label: [0, 0, 1, 0]\n",
      "Centroid: [ 0.18889584 -0.09480933  0.02671995], Assigned Label: [0, 0, 0, 1]\n",
      "Centroid: [ 0.22351021  0.06247253 -0.04282166], Assigned Label: [0, 0, 0, 1]\n",
      "Centroid: [ 0.17481792  0.0058464  -0.05752248], Assigned Label: [0, 0, 1, 0]\n",
      "Centroid: [ 0.11846334  0.01195134 -0.01003536], Assigned Label: [0, 0, 0, 1]\n",
      "Centroid: [ 0.08225935 -0.01900624  0.0566439 ], Assigned Label: [0, 0, 1, 0]\n",
      "Centroid: [ 0.13076117 -0.01818625  0.05923156], Assigned Label: [0, 0, 1, 0]\n",
      "Centroid: [ 0.16878672 -0.09107191 -0.09072031], Assigned Label: [0, 0, 0, 1]\n",
      "Centroid: [ 0.15288282  0.07448465 -0.12285084], Assigned Label: [0, 0, 0, 1]\n",
      "Centroid: [0.14205039 0.13219975 0.05100633], Assigned Label: [1, 1, 0, 0]\n",
      "Centroid: [ 0.21544434 -0.10481468  0.09541798], Assigned Label: [0, 0, 1, 0]\n",
      "Centroid: [0.09643276 0.09887697 0.01583585], Assigned Label: [1, 0, 0, 0]\n",
      "Centroid: [ 0.17735758  0.10954896 -0.01246196], Assigned Label: [0, 0, 0, 1]\n",
      "Centroid: [ 0.11402255 -0.05145968 -0.03925464], Assigned Label: [0, 0, 0, 1]\n",
      "Centroid: [ 0.05119071  0.02991792 -0.00193102], Assigned Label: [1, 1, 0, 0]\n",
      "Centroid: [0.13711838 0.03544934 0.02482928], Assigned Label: [0, 0, 0, 1]\n",
      "Centroid: [ 0.18570662  0.23578109 -0.05316813], Assigned Label: [1, 0, 0, 1]\n",
      "Centroid: [ 0.13420381 -0.01325807 -0.04426742], Assigned Label: [0, 0, 0, 1]\n",
      "Centroid: [ 0.0960352  -0.0739772  -0.07693484], Assigned Label: [0, 0, 1, 0]\n",
      "Centroid: [ 0.16479614 -0.04389407  0.12931422], Assigned Label: [0, 1, 0, 0]\n",
      "Centroid: [ 0.15131942  0.14563163 -0.06541579], Assigned Label: [0, 0, 1, 1]\n",
      "Centroid: [ 0.1537485  -0.04756471  0.02693994], Assigned Label: [0, 0, 1, 1]\n",
      "Centroid: [ 0.2025355   0.03227722 -0.11456696], Assigned Label: [0, 0, 0, 1]\n",
      "Centroid: [0.1396235  0.08224739 0.01574793], Assigned Label: [0, 1, 0, 0]\n",
      "Centroid: [0.21760391 0.03294604 0.07948672], Assigned Label: [0, 0, 0, 1]\n",
      "Centroid: [ 0.13368644 -0.09250959  0.02671675], Assigned Label: [0, 0, 1, 0]\n",
      "Centroid: [ 0.22247879 -0.02779957  0.19492052], Assigned Label: [0, 1, 0, 0]\n",
      "Centroid: [0.21764851 0.15836069 0.02755198], Assigned Label: [1, 1, 0, 0]\n",
      "Centroid: [ 0.09305992 -0.01151492  0.02366145], Assigned Label: [0, 0, 0, 1]\n",
      "Centroid: [ 0.11166171  0.18351897 -0.05336742], Assigned Label: [1, 0, 0, 0]\n",
      "Centroid: [ 0.16221065 -0.14015434 -0.01472678], Assigned Label: [0, 0, 0, 1]\n",
      "Centroid: [0.10713456 0.06160288 0.05543651], Assigned Label: [1, 0, 1, 0]\n",
      "Centroid: [ 0.09093073 -0.0074318  -0.04976611], Assigned Label: [0, 0, 0, 1]\n",
      "Centroid: [ 0.1088178  -0.04750697  0.04351226], Assigned Label: [0, 0, 1, 0]\n",
      "Centroid: [ 0.06958563  0.07434936 -0.02416488], Assigned Label: [1, 1, 0, 0]\n",
      "Centroid: [0.1501834  0.03294062 0.07376301], Assigned Label: [0, 1, 0, 0]\n",
      "Centroid: [0.06999027 0.01576461 0.04487497], Assigned Label: [0, 1, 0, 0]\n",
      "Centroid: [ 0.12246729  0.09133222 -0.03526578], Assigned Label: [0, 0, 1, 0]\n",
      "Centroid: [ 0.16300266 -0.1431076  -0.137087  ], Assigned Label: [0, 0, 1, 0]\n",
      "Centroid: [ 0.10910415  0.1223936  -0.09038507], Assigned Label: [1, 0, 1, 1]\n",
      "Centroid: [0.17554329 0.0718439  0.18812425], Assigned Label: [0, 1, 0, 0]\n",
      "Centroid: [ 0.23215001 -0.15502848  0.00753615], Assigned Label: [0, 0, 0, 1]\n",
      "Centroid: [ 0.07446314 -0.0497336  -0.05361358], Assigned Label: [0, 0, 1, 1]\n",
      "Centroid: [ 0.13493182 -0.01581911  0.1615523 ], Assigned Label: [0, 0, 1, 0]\n",
      "Centroid: [ 0.22632827 -0.0005854  -0.00183149], Assigned Label: [0, 0, 1, 0]\n",
      "Centroid: [ 0.10220997  0.05608853 -0.07539996], Assigned Label: [0, 1, 1, 1]\n",
      "Centroid: [ 0.1275511  -0.01384382  0.01923977], Assigned Label: [0, 0, 0, 1]\n",
      "Centroid: [ 0.1564796   0.04818533 -0.01907987], Assigned Label: [0, 0, 0, 1]\n",
      "Centroid: [ 0.1556226  -0.06329925  0.07478664], Assigned Label: [0, 0, 1, 0]\n",
      "Centroid: [ 0.11335016 -0.02943561  0.09391736], Assigned Label: [0, 0, 1, 0]\n",
      "Centroid: [ 0.12518347  0.13626204 -0.0064417 ], Assigned Label: [1, 0, 0, 0]\n",
      "Centroid: [0.11204166 0.01043146 0.05070142], Assigned Label: [0, 0, 0, 1]\n",
      "Centroid: [ 0.15056626 -0.03369875 -0.10273801], Assigned Label: [0, 0, 1, 0]\n",
      "Centroid: [ 0.16833055 -0.01404781  0.08459774], Assigned Label: [0, 1, 0, 0]\n",
      "Centroid: [ 0.05480136 -0.00824623  0.0275291 ], Assigned Label: [0, 0, 1, 0]\n",
      "Centroid: [ 0.10485402 -0.02019746 -0.0141591 ], Assigned Label: [0, 0, 0, 1]\n",
      "Centroid: [ 0.07303637 -0.03733015  0.01242843], Assigned Label: [0, 0, 1, 1]\n",
      "Centroid: [ 0.20701126  0.1425943  -0.084204  ], Assigned Label: [1, 1, 0, 0]\n",
      "Centroid: [ 0.18594211 -0.04711679 -0.01754377], Assigned Label: [0, 0, 0, 1]\n",
      "Centroid: [ 0.24819059 -0.04582715  0.06199965], Assigned Label: [0, 0, 1, 0]\n",
      "Centroid: [ 0.12574376  0.02860412 -0.04710457], Assigned Label: [0, 0, 1, 1]\n",
      "Centroid: [ 0.18299794  0.27352587 -0.146228  ], Assigned Label: [1, 1, 0, 0]\n",
      "Centroid: [0.17056931 0.08528328 0.05584221], Assigned Label: [0, 1, 0, 0]\n",
      "Centroid: [ 0.16018021  0.07413563 -0.06560294], Assigned Label: [0, 0, 1, 1]\n",
      "Centroid: [ 0.15421287 -0.08372314 -0.01988305], Assigned Label: [0, 0, 1, 1]\n",
      "Centroid: [ 0.20816287 -0.03832714 -0.07246174], Assigned Label: [0, 0, 1, 0]\n",
      "Centroid: [ 0.14378554 -0.13045957 -0.06573455], Assigned Label: [0, 0, 1, 0]\n",
      "Centroid: [ 0.08216942  0.02798104 -0.03296639], Assigned Label: [0, 0, 0, 1]\n",
      "Centroid: [0.16518223 0.00197379 0.04086803], Assigned Label: [0, 1, 0, 0]\n",
      "Centroid: [ 0.15551039 -0.05062107 -0.05677083], Assigned Label: [0, 0, 0, 1]\n",
      "Centroid: [0.09429008 0.01384628 0.08459696], Assigned Label: [0, 1, 0, 0]\n",
      "Centroid: [ 0.05407133 -0.02160885 -0.02657674], Assigned Label: [0, 0, 1, 0]\n",
      "Centroid: [0.07347602 0.05589606 0.02342296], Assigned Label: [1, 1, 0, 0]\n",
      "Centroid: [ 0.21482375 -0.03556642  0.11237675], Assigned Label: [0, 0, 1, 0]\n",
      "Centroid: [ 0.13794111  0.20748529 -0.11188878], Assigned Label: [1, 1, 0, 0]\n",
      "Centroid: [ 0.20434362 -0.06408254 -0.13631047], Assigned Label: [0, 1, 1, 0]\n",
      "Centroid: [ 0.12924134 -0.08611558 -0.05930599], Assigned Label: [0, 0, 1, 0]\n",
      "Centroid: [ 0.1948047  -0.03677243  0.04076315], Assigned Label: [0, 0, 1, 0]\n",
      "Centroid: [ 0.20176797 -0.10234243 -0.04995681], Assigned Label: [0, 0, 1, 0]\n",
      "Centroid: [ 0.1122025  -0.05302713  0.00624266], Assigned Label: [0, 0, 1, 0]\n",
      "Centroid: [ 0.16386348 -0.00252616 -0.00639475], Assigned Label: [0, 0, 1, 1]\n"
     ]
    }
   ],
   "source": [
    "# Assign labels for each centroid, take the label from the data point with the highest cosine similarity\n",
    "centroids = kmeans.cluster_centers_\n",
    "\n",
    "assigned_labels = []\n",
    "for centroid in centroids:\n",
    "    similarities = cosine_similarity([centroid], X_train_pca)\n",
    "    closest_label_idx = np.argmax(similarities)\n",
    "    assigned_label = y_train.loc[closest_label_idx].tolist()\n",
    "    assigned_labels.append(assigned_label)\n",
    "\n",
    "# Print the assigned labels for each centroid\n",
    "for centroid, assigned_label in zip(centroids, assigned_labels):\n",
    "    print(f\"Centroid: {centroid}, Assigned Label: {assigned_label}\")"
   ]
  },
  {
   "cell_type": "code",
   "execution_count": 130,
   "metadata": {},
   "outputs": [
    {
     "data": {
      "text/plain": [
       "[(0, 0, 0, 1),\n",
       " (0, 0, 1, 0),\n",
       " (0, 1, 0, 1),\n",
       " (0, 1, 1, 1),\n",
       " (1, 0, 1, 1),\n",
       " (1, 1, 0, 0),\n",
       " (0, 1, 0, 0),\n",
       " (0, 1, 1, 0),\n",
       " (1, 0, 1, 0),\n",
       " (1, 0, 0, 0),\n",
       " (1, 0, 0, 1),\n",
       " (1, 1, 0, 1),\n",
       " (0, 0, 1, 1)]"
      ]
     },
     "execution_count": 130,
     "metadata": {},
     "output_type": "execute_result"
    }
   ],
   "source": [
    "list(set(tuple(x) for x in assigned_labels))"
   ]
  },
  {
   "cell_type": "code",
   "execution_count": 140,
   "metadata": {},
   "outputs": [],
   "source": [
    "# Make predictions on the test set\n",
    "y_pred_cluster = kmeans.predict(X_test_pca)"
   ]
  },
  {
   "cell_type": "code",
   "execution_count": 141,
   "metadata": {},
   "outputs": [],
   "source": [
    "# Transform cluster index to tuple\n",
    "y_pred = [assigned_labels[x] for x in y_pred_cluster]"
   ]
  },
  {
   "cell_type": "code",
   "execution_count": null,
   "metadata": {},
   "outputs": [],
   "source": [
    "# Plot the data points and centroids\n",
    "plt.scatter(X_test[:, 0], X_test[:, 1], c=y_pred)\n",
    "plt.scatter(centroids[:, 0], centroids[:, 1], marker='x', c='red')\n",
    "plt.xlabel('Feature 1')\n",
    "plt.ylabel('Feature 2')\n",
    "plt.title('Data Points and Centroids')\n",
    "plt.legend(['Data Points', 'Centroids'])\n",
    "\n",
    "# Show the plot\n",
    "plt.show()\n",
    "\n",
    "custom_f1 = custom_f1_score(y_pred, y_test)\n",
    "print(f\"The F1-score of our problem is {custom_f1}\")"
   ]
  },
  {
   "cell_type": "code",
   "execution_count": 146,
   "metadata": {},
   "outputs": [
    {
     "ename": "AttributeError",
     "evalue": "'list' object has no attribute 'shape'",
     "output_type": "error",
     "traceback": [
      "\u001b[1;31m---------------------------------------------------------------------------\u001b[0m",
      "\u001b[1;31mAttributeError\u001b[0m                            Traceback (most recent call last)",
      "Cell \u001b[1;32mIn[146], line 1\u001b[0m\n\u001b[1;32m----> 1\u001b[0m custom_f1 \u001b[39m=\u001b[39m custom_f1_score(y_pred, y_test)\n\u001b[0;32m      2\u001b[0m \u001b[39mprint\u001b[39m(\u001b[39mf\u001b[39m\u001b[39m\"\u001b[39m\u001b[39mThe F1-score of our problem is \u001b[39m\u001b[39m{\u001b[39;00mcustom_f1\u001b[39m}\u001b[39;00m\u001b[39m\"\u001b[39m)\n",
      "File \u001b[1;32mc:\\Users\\Andreas\\Desktop\\Mining of Massive Datasets\\Assignment\\DataMine\\my_modules.py:19\u001b[0m, in \u001b[0;36mcustom_f1_score\u001b[1;34m(y_test, y_pred)\u001b[0m\n\u001b[0;32m     18\u001b[0m \u001b[39mdef\u001b[39;00m \u001b[39mcustom_f1_score\u001b[39m(y_test, y_pred):\n\u001b[1;32m---> 19\u001b[0m     \u001b[39massert\u001b[39;00m y_pred\u001b[39m.\u001b[39mshape \u001b[39m==\u001b[39m y_test\u001b[39m.\u001b[39;49mshape, \u001b[39m'\u001b[39m\u001b[39mthe two dataframes should have the same shape\u001b[39m\u001b[39m'\u001b[39m\n\u001b[0;32m     21\u001b[0m     dividend \u001b[39m=\u001b[39m \u001b[39m2\u001b[39m \u001b[39m*\u001b[39m count_same_values(y_pred, y_test)\n\u001b[0;32m     22\u001b[0m     divisor \u001b[39m=\u001b[39m y_pred\u001b[39m.\u001b[39mshape[\u001b[39m1\u001b[39m] \u001b[39m+\u001b[39m y_test\u001b[39m.\u001b[39mshape[\u001b[39m1\u001b[39m]\n",
      "\u001b[1;31mAttributeError\u001b[0m: 'list' object has no attribute 'shape'"
     ]
    }
   ],
   "source": [
    "custom_f1 = custom_f1_score(y_pred, y_test)\n",
    "print(f\"The F1-score of our problem is {custom_f1}\")"
   ]
  },
  {
   "cell_type": "code",
   "execution_count": null,
   "metadata": {},
   "outputs": [],
   "source": []
  }
 ],
 "metadata": {
  "kernelspec": {
   "display_name": "Python 3 (ipykernel)",
   "language": "python",
   "name": "python3"
  },
  "language_info": {
   "codemirror_mode": {
    "name": "ipython",
    "version": 3
   },
   "file_extension": ".py",
   "mimetype": "text/x-python",
   "name": "python",
   "nbconvert_exporter": "python",
   "pygments_lexer": "ipython3",
   "version": "3.11.3"
  }
 },
 "nbformat": 4,
 "nbformat_minor": 1
}
