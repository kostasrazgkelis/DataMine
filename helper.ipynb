{
 "cells": [
  {
   "cell_type": "code",
   "execution_count": null,
   "metadata": {},
   "outputs": [],
   "source": [
    "import numpy as np"
   ]
  },
  {
   "cell_type": "code",
   "execution_count": null,
   "metadata": {},
   "outputs": [],
   "source": [
    "def count_same_values(df1, df2):\n",
    "    arr1 = df1.to_numpy()\n",
    "    arr2 = df2.to_numpy()\n",
    "    count_same = np.sum(arr1 == arr2, axis=1)\n",
    "\n",
    "    return count_same"
   ]
  },
  {
   "cell_type": "code",
   "execution_count": null,
   "metadata": {},
   "outputs": [],
   "source": [
    "def custom_f1_score(y_test, y_pred):\n",
    "    assert y_pred.shape == y_test.shape, 'the two dataframes should have the same shape'\n",
    "\n",
    "    dividend = 2 * count_same_values(y_pred,y_test)\n",
    "    divisor = y_pred.shape[1] + y_test.shape[1]\n",
    "\n",
    "    f1score = np.sum(dividend / divisor) / y_pred.shape[0]\n",
    "    \n",
    "    return f1score"
   ]
  }
 ],
 "metadata": {
  "kernelspec": {
   "display_name": "datamine",
   "language": "python",
   "name": "python3"
  },
  "language_info": {
   "name": "python",
   "version": "3.11.3"
  },
  "orig_nbformat": 4
 },
 "nbformat": 4,
 "nbformat_minor": 2
}
