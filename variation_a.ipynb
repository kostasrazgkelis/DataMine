{
 "cells": [
  {
   "cell_type": "code",
   "execution_count": 1,
   "metadata": {
    "collapsed": true,
    "ExecuteTime": {
     "start_time": "2023-06-11T23:55:45.429249Z",
     "end_time": "2023-06-11T23:55:49.149851Z"
    }
   },
   "outputs": [],
   "source": [
    "import pandas as pd\n",
    "from sklearn.feature_extraction.text import TfidfVectorizer\n",
    "from sklearn.model_selection import train_test_split, GridSearchCV\n",
    "from sklearn.neighbors import KNeighborsClassifier\n",
    "from sklearn.decomposition import TruncatedSVD\n",
    "import re\n",
    "import nltk\n",
    "from nltk.corpus import stopwords\n",
    "\n",
    "from my_modules import custom_f1_score\n"
   ]
  },
  {
   "cell_type": "code",
   "execution_count": 3,
   "outputs": [
    {
     "name": "stderr",
     "output_type": "stream",
     "text": [
      "[nltk_data] Downloading package stopwords to C:\\Users\\Konstantinos\n",
      "[nltk_data]     Razgkel\\AppData\\Roaming\\nltk_data...\n",
      "[nltk_data]   Package stopwords is already up-to-date!\n"
     ]
    }
   ],
   "source": [
    "# Get the list of stopwords\n",
    "nltk.download('stopwords')\n",
    "stopwords_list = set(stopwords.words('english'))\n",
    "\n",
    "dataset = pd.read_csv(\"data/training_data.tsv.gz\", sep=\"\\t\", header=None)\n",
    "dataset.dropna(inplace=True)"
   ],
   "metadata": {
    "collapsed": false,
    "ExecuteTime": {
     "start_time": "2023-06-11T18:50:56.556983Z",
     "end_time": "2023-06-11T18:52:08.058142Z"
    }
   }
  },
  {
   "cell_type": "code",
   "execution_count": 53,
   "outputs": [
    {
     "name": "stderr",
     "output_type": "stream",
     "text": [
      "C:\\Users\\Konstantinos Razgkel\\AppData\\Local\\Temp\\ipykernel_13180\\3576154887.py:3: SettingWithCopyWarning: \n",
      "A value is trying to be set on a copy of a slice from a DataFrame\n",
      "\n",
      "See the caveats in the documentation: https://pandas.pydata.org/pandas-docs/stable/user_guide/indexing.html#returning-a-view-versus-a-copy\n",
      "  df.rename(columns={0: 'index', 1: 'title', 2: 'text', 3: 'labels'}, inplace=True)\n",
      "C:\\Users\\Konstantinos Razgkel\\AppData\\Local\\Temp\\ipykernel_13180\\3576154887.py:4: SettingWithCopyWarning: \n",
      "A value is trying to be set on a copy of a slice from a DataFrame\n",
      "\n",
      "See the caveats in the documentation: https://pandas.pydata.org/pandas-docs/stable/user_guide/indexing.html#returning-a-view-versus-a-copy\n",
      "  df.drop('index', axis=1, inplace=True)\n"
     ]
    },
    {
     "name": "stdout",
     "output_type": "stream",
     "text": [
      "Best n_neighbors: 13\n",
      "The F1-score of our problem is 0.705675\n"
     ]
    },
    {
     "data": {
      "text/plain": "                                                       0  css  html  \\\n0      send another value ajax file uploadupload func...    0     0   \n1      possible limit user upload image fixed dimensi...    0     0   \n2      greying button codebehind work ietwo drop list...    0     0   \n3      javascript template inheritancedjango framewor...    0     0   \n4      implement facebook like button jquery gallerif...    0     0   \n...                                                  ...  ...   ...   \n19995  finding combinations javascript array valuespr...    0     0   \n19996  capture click event flash objectdiv onclick ev...    0     0   \n19997  winforms equivalent javascript settimeoutsimpl...    0     0   \n19998  javascript random problemvar swf1swf2swf3swf v...    0     0   \n19999  jquery ajax submit working ie chromepages one ...    0     0   \n\n       javascript  jquery  \n0               0       1  \n1               0       0  \n2               0       0  \n3               1       1  \n4               0       0  \n...           ...     ...  \n19995           1       1  \n19996           1       0  \n19997           1       0  \n19998           1       0  \n19999           1       1  \n\n[20000 rows x 5 columns]",
      "text/html": "<div>\n<style scoped>\n    .dataframe tbody tr th:only-of-type {\n        vertical-align: middle;\n    }\n\n    .dataframe tbody tr th {\n        vertical-align: top;\n    }\n\n    .dataframe thead th {\n        text-align: right;\n    }\n</style>\n<table border=\"1\" class=\"dataframe\">\n  <thead>\n    <tr style=\"text-align: right;\">\n      <th></th>\n      <th>0</th>\n      <th>css</th>\n      <th>html</th>\n      <th>javascript</th>\n      <th>jquery</th>\n    </tr>\n  </thead>\n  <tbody>\n    <tr>\n      <th>0</th>\n      <td>send another value ajax file uploadupload func...</td>\n      <td>0</td>\n      <td>0</td>\n      <td>0</td>\n      <td>1</td>\n    </tr>\n    <tr>\n      <th>1</th>\n      <td>possible limit user upload image fixed dimensi...</td>\n      <td>0</td>\n      <td>0</td>\n      <td>0</td>\n      <td>0</td>\n    </tr>\n    <tr>\n      <th>2</th>\n      <td>greying button codebehind work ietwo drop list...</td>\n      <td>0</td>\n      <td>0</td>\n      <td>0</td>\n      <td>0</td>\n    </tr>\n    <tr>\n      <th>3</th>\n      <td>javascript template inheritancedjango framewor...</td>\n      <td>0</td>\n      <td>0</td>\n      <td>1</td>\n      <td>1</td>\n    </tr>\n    <tr>\n      <th>4</th>\n      <td>implement facebook like button jquery gallerif...</td>\n      <td>0</td>\n      <td>0</td>\n      <td>0</td>\n      <td>0</td>\n    </tr>\n    <tr>\n      <th>...</th>\n      <td>...</td>\n      <td>...</td>\n      <td>...</td>\n      <td>...</td>\n      <td>...</td>\n    </tr>\n    <tr>\n      <th>19995</th>\n      <td>finding combinations javascript array valuespr...</td>\n      <td>0</td>\n      <td>0</td>\n      <td>1</td>\n      <td>1</td>\n    </tr>\n    <tr>\n      <th>19996</th>\n      <td>capture click event flash objectdiv onclick ev...</td>\n      <td>0</td>\n      <td>0</td>\n      <td>1</td>\n      <td>0</td>\n    </tr>\n    <tr>\n      <th>19997</th>\n      <td>winforms equivalent javascript settimeoutsimpl...</td>\n      <td>0</td>\n      <td>0</td>\n      <td>1</td>\n      <td>0</td>\n    </tr>\n    <tr>\n      <th>19998</th>\n      <td>javascript random problemvar swf1swf2swf3swf v...</td>\n      <td>0</td>\n      <td>0</td>\n      <td>1</td>\n      <td>0</td>\n    </tr>\n    <tr>\n      <th>19999</th>\n      <td>jquery ajax submit working ie chromepages one ...</td>\n      <td>0</td>\n      <td>0</td>\n      <td>1</td>\n      <td>1</td>\n    </tr>\n  </tbody>\n</table>\n<p>20000 rows × 5 columns</p>\n</div>"
     },
     "execution_count": 53,
     "metadata": {},
     "output_type": "execute_result"
    }
   ],
   "source": [
    "df = dataset.head(1000000)\n",
    "\n",
    "df.rename(columns={0: 'index', 1: 'title', 2: 'text', 3: 'labels'}, inplace=True)\n",
    "df.drop('index', axis=1, inplace=True)\n",
    "\n",
    "# Get the features\n",
    "X  = df.drop('labels', axis=1)\n",
    "\n",
    "# Start preprocessing the data\n",
    "# We Lower case all the data\n",
    "# we remove all stop words (the, a, etc)\n",
    "# We remove other words that are from html (e.g <div><!div>)\n",
    "X = X.applymap(lambda x: re.sub(r'<.*?>|[^\\w\\s]', '', x.lower())).applymap(lambda x: ' '.join([word for word in x.split() if word not in stopwords_list]))\n",
    "\n",
    "# We will now conca title and text into one dataset\n",
    "X = X[\"title\"] + X[\"text\"]\n",
    "y = df['labels'].str.get_dummies(',')\n",
    "\n",
    "# Split the data into training and test sets\n",
    "X_train, X_test, y_train, y_test = train_test_split(X, y, test_size=0.2, shuffle=False)\n",
    "\n",
    "prediction_stored_data = pd.DataFrame(X_test).copy()\n",
    "\n",
    "# Initialize the TfidfVectorizer - we normalize the text into numerical values\n",
    "vectorizer = TfidfVectorizer()\n",
    "pca = TruncatedSVD(n_components=2)\n",
    "\n",
    "# Fit and transform the text data and apply dimensionality reduction\n",
    "X_train = pca.fit_transform(vectorizer.fit_transform(X_train))\n",
    "X_test = pca.transform(vectorizer.transform(X_test))\n",
    "\n",
    "knn = KNeighborsClassifier()\n",
    "\n",
    "# Create a dictionary of hyperparameters to search over\n",
    "param_grid = {'n_neighbors': range(1, 15)}\n",
    "\n",
    "# Perform grid search with cross-validation\n",
    "grid_search = GridSearchCV(knn, param_grid, cv=10)\n",
    "grid_search.fit(X_train, y_train)\n",
    "\n",
    "# Get the best n_neighbors value\n",
    "best_n_neighbors = grid_search.best_params_['n_neighbors']\n",
    "print(\"Best n_neighbors:\", best_n_neighbors)\n",
    "\n",
    "# Initialize the KNN classifier\n",
    "knn = KNeighborsClassifier(n_neighbors=best_n_neighbors)\n",
    "\n",
    "# Train the KNN classifier\n",
    "knn.fit(X_train, y_train)\n",
    "\n",
    "# Make predictions on the test set\n",
    "y_pred = knn.predict(X_test)\n",
    "\n",
    "# Make the dataframes\n",
    "prediction_df = pd.DataFrame(y_pred, columns=y.columns)\n",
    "prediction_df.reset_index(drop=True, inplace=True)\n",
    "\n",
    "prediction_stored_data.reset_index(drop=True, inplace=True)\n",
    "\n",
    "custom_f1_score = custom_f1_score(y_test, y_pred)\n",
    "print(f\"The F1-score of our problem is {custom_f1_score}\")\n",
    "\n",
    "# The unknown data with the prediction\n",
    "final_results = pd.concat([prediction_stored_data, prediction_df], axis=1)\n",
    "final_results"
   ],
   "metadata": {
    "collapsed": false,
    "ExecuteTime": {
     "start_time": "2023-06-11T20:37:02.551750Z",
     "end_time": "2023-06-11T20:39:51.899750Z"
    }
   }
  },
  {
   "cell_type": "code",
   "execution_count": 57,
   "outputs": [],
   "source": [
    "print(y_test)"
   ],
   "metadata": {
    "collapsed": false,
    "ExecuteTime": {
     "start_time": "2023-06-11T20:52:02.759852Z",
     "end_time": "2023-06-11T20:52:02.792440Z"
    }
   }
  },
  {
   "cell_type": "code",
   "execution_count": 58,
   "outputs": [],
   "source": [
    "y_test"
   ],
   "metadata": {
    "collapsed": false,
    "ExecuteTime": {
     "start_time": "2023-06-11T20:53:32.573410Z",
     "end_time": "2023-06-11T20:53:33.248999Z"
    }
   }
  },
  {
   "cell_type": "code",
   "execution_count": null,
   "outputs": [],
   "source": [
    "y_pred"
   ],
   "metadata": {
    "collapsed": false
   }
  }
 ],
 "metadata": {
  "kernelspec": {
   "display_name": "Python 3",
   "language": "python",
   "name": "python3"
  },
  "language_info": {
   "codemirror_mode": {
    "name": "ipython",
    "version": 2
   },
   "file_extension": ".py",
   "mimetype": "text/x-python",
   "name": "python",
   "nbconvert_exporter": "python",
   "pygments_lexer": "ipython2",
   "version": "2.7.6"
  }
 },
 "nbformat": 4,
 "nbformat_minor": 0
}
